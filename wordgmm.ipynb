{
 "cells": [
  {
   "cell_type": "code",
   "execution_count": 11,
   "metadata": {},
   "outputs": [],
   "source": [
    "from functions import *"
   ]
  },
  {
   "cell_type": "code",
   "execution_count": 12,
   "metadata": {},
   "outputs": [],
   "source": [
    "\n",
    "from scipy.io.wavfile import read\n",
    "\n",
    "directoryOpen = './GMM Data/Open the door/'\n",
    "directoryClose = './GMM Data/close the door/'\n",
    "directoryWindow = './GMM Data/Open the window/'\n",
    "directoryPlease = './GMM Data/Please open/'\n",
    "\n",
    "openTheDoor = extractFromFile(directoryOpen)\n",
    "closeTheDoor = extractFromFile(directoryClose)\n",
    "openTheWindow = extractFromFile(directoryWindow)\n",
    "pleaseOpen = extractFromFile(directoryPlease)\n"
   ]
  },
  {
   "cell_type": "code",
   "execution_count": 13,
   "metadata": {},
   "outputs": [],
   "source": [
    "openthedoor_gmm = generateModel('openthedoor_gmm',openTheDoor, 'openTheDoor')\n",
    "closethedoor_gmm = generateModel('closethedoor_gmm',closeTheDoor, 'closeTheDoor') \n",
    "openthewindow_gmm = generateModel('openthewindow_gmm',openTheWindow, 'openTheWindow')\n",
    "pleaseopen_gmm = generateModel('pleaseopen_gmm',pleaseOpen, 'pleaseOpen')\n"
   ]
  },
  {
   "cell_type": "code",
   "execution_count": 14,
   "metadata": {},
   "outputs": [],
   "source": [
    "import pickle\n",
    "import joblib\n",
    "lstFolders = ['openTheDoor', 'closeTheDoor', 'openTheWindow', 'pleaseOpen']\n",
    "\n",
    "models = [joblib.load(f + '.gmm') for f in lstFolders]"
   ]
  },
  {
   "cell_type": "code",
   "execution_count": 15,
   "metadata": {},
   "outputs": [],
   "source": [
    "\n",
    "import glob\n",
    "from sklearn.metrics import f1_score\n",
    "\n",
    "y = []\n",
    "y_true = []\n",
    "lstFolders = ['Open the door' , 'close the door', 'Open the window', 'Please open']\n",
    "# GMM Data\\rawan\n",
    "for folder in lstFolders:\n",
    "    # try:\n",
    "    lstFiles = glob.glob('GMM Data/{}/*'.format(folder))\n",
    "    for f in lstFiles:\n",
    "        \n",
    "        sr,audio = read(f)\n",
    "        vstack = extract_features(f)\n",
    "        output = []\n",
    "        for model in models:\n",
    "            scores = np.array(model.score(vstack))\n",
    "            output.append(scores.sum())\n",
    "\n",
    "        winner = np.argmax(output)\n",
    "        y_true.append(winner)\n",
    "        y.append(lstFolders.index(folder))"
   ]
  },
  {
   "cell_type": "code",
   "execution_count": 16,
   "metadata": {},
   "outputs": [
    {
     "data": {
      "text/plain": [
       "0.9310344827586207"
      ]
     },
     "execution_count": 16,
     "metadata": {},
     "output_type": "execute_result"
    }
   ],
   "source": [
    "f1_score(y, y_true, average='micro')"
   ]
  }
 ],
 "metadata": {
  "kernelspec": {
   "display_name": "Python 3",
   "language": "python",
   "name": "python3"
  },
  "language_info": {
   "codemirror_mode": {
    "name": "ipython",
    "version": 3
   },
   "file_extension": ".py",
   "mimetype": "text/x-python",
   "name": "python",
   "nbconvert_exporter": "python",
   "pygments_lexer": "ipython3",
   "version": "3.10.8 (tags/v3.10.8:aaaf517, Oct 11 2022, 16:50:30) [MSC v.1933 64 bit (AMD64)]"
  },
  "orig_nbformat": 4,
  "vscode": {
   "interpreter": {
    "hash": "fbc768028c3e6ead51d9a200ddcb2ec858ae62844dcd1994729a8279be9b48f2"
   }
  }
 },
 "nbformat": 4,
 "nbformat_minor": 2
}
